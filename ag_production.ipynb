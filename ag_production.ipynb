{
 "cells": [
  {
   "cell_type": "markdown",
   "metadata": {},
   "source": [
    "## Lecture III How is agricultural production increasing?\n",
    "\n"
   ]
  },
  {
   "cell_type": "markdown",
   "metadata": {},
   "source": [
    "We&rsquo;ve seen that growth in food production is typically greater than\n",
    "population growth.  But where is this growth coming from?  \n",
    "\n",
    "Food (and crops in particular) are the classical example of \n",
    "production.  The &ldquo;classical&rdquo; economists in the 18th century, when\n",
    "most income came from agriculture, thought there were three main\n",
    "&ldquo;factors&rdquo; of production:\n",
    "\n",
    "-   Land\n",
    "-   Labor\n",
    "-   Capital\n",
    "\n",
    "Thus one might write the technical relationship between &ldquo;factors&rdquo; (or\n",
    "inputs) and output as\n",
    "$$\n",
    "    \\text{Crop output} = F(\\mbox{Land},\\mbox{Labor},\\mbox{Capital}).\n",
    " $$\n",
    "\n"
   ]
  },
  {
   "cell_type": "markdown",
   "metadata": {},
   "source": [
    "### Functional forms\n",
    "\n"
   ]
  },
  {
   "cell_type": "markdown",
   "metadata": {},
   "source": [
    "We have good reason to think that $F$ displays constant returns to\n",
    "scale; i.e., is homogeneous of degree one.  Write it as\n",
    "$F(x_1,x_2,\\dots,x_n)$ (thus abstracting from the classical factors\n",
    "of production).  \n",
    "\n",
    "Observationally, it&rsquo;s also often the case the cost share for\n",
    "different factors of production remains constant, even when prices\n",
    "change.  If we combine these facts (linearly homogeneous, constant\n",
    "cost shares) with an assumption that farmers operating this\n",
    "production function are profit maximizing price-takers and a\n",
    "technical assumption that $F$ is continuously differentiable, then\n",
    "one can prove that $F$ is &ldquo;Cobb-Douglas&rdquo;, or\n",
    "$$\n",
    "      F(x_1,x_2,\\dots,x_n) = A\\prod_{i=1}^nx_i^{\\alpha_i},\n",
    "  $$\n",
    "where $\\sum_{i=1}^n\\alpha_i=1$.  This is a result first established\n",
    "by the economist Paul Douglas and the mathematician Charles Cobb in 1928.\n",
    "\n",
    "If we observe output at time $t$ for country $j$, say $y^j_t$ and inputs $x^j_{it}$, we can take the\n",
    "logarithm of the Cobb-Douglas production function, obtaining\n",
    "$$\n",
    "     \\log y^j_t = \\log A^j_t + \\sum_{i=1}^n\\alpha^j_i\\log(x^j_{it}).\n",
    "  $$\n",
    "Note that we&rsquo;ve allowed the cost-share parameters $\\alpha$ to vary\n",
    "across both inputs and also countries, but *not* over time.\n",
    "\n"
   ]
  },
  {
   "cell_type": "markdown",
   "metadata": {},
   "source": [
    "### Total Factor Productivity\n",
    "\n"
   ]
  },
  {
   "cell_type": "markdown",
   "metadata": {},
   "source": [
    "The term $A$ is sometimes called &ldquo;Total Factor Productivity&rdquo; (TFP),\n",
    "because increases in $A$ increase productivity of all factors.  If\n",
    "we take differences in log output over time we get\n",
    "$$\n",
    "      \\Delta\\log y^j_t = \\Delta\\log A^j_t + \\sum_{i=1}^n\\alpha^j_i\\Delta\\log(x^j_{it}).\n",
    "   $$\n",
    "Recall that changes in logs approximate percent changes or growth\n",
    "rates, so we can use this equation to decompose output growth into\n",
    "growth in input use and TFP growth.\n",
    "\n"
   ]
  },
  {
   "cell_type": "markdown",
   "metadata": {},
   "source": [
    "### Data on Food Production\n",
    "\n"
   ]
  },
  {
   "cell_type": "markdown",
   "metadata": {},
   "source": [
    "What’s happened to food production over recent decades?\n",
    "See\n",
    "[https://www.ers.usda.gov/data-products/international-agricultural-productivity/](https://www.ers.usda.gov/data-products/international-agricultural-productivity/).\n",
    "\n",
    "Data on TFP, output, factor use, and factor shares can be found at\n",
    "[https://docs.google.com/spreadsheets/d/1DLn9owcS7ggojJGWlI9vKSz0hqozn6cbcqNGWgzMZ8k](https://docs.google.com/spreadsheets/d/1DLn9owcS7ggojJGWlI9vKSz0hqozn6cbcqNGWgzMZ8k),\n",
    "which is publicly readable.\n",
    "\n"
   ]
  },
  {
   "cell_type": "markdown",
   "metadata": {},
   "source": [
    "### Reading Sheets\n",
    "\n"
   ]
  },
  {
   "cell_type": "markdown",
   "metadata": {},
   "source": [
    "I&rsquo;ve written a python package `eep153_tools` which includes tools to\n",
    "handle authentication as well as reading google sheets as pandas\n",
    "DataFrames.  First we have to deal with authentication, by decrypting\n",
    "credentials to access particular files (you should only have to do\n",
    "this part once):\n",
    "\n"
   ]
  },
  {
   "cell_type": "code",
   "execution_count": 1,
   "metadata": {},
   "outputs": [
    {
     "name": "stdout",
     "output_type": "stream",
     "text": [
      "Collecting eep153_tools\n",
      "  Downloading eep153_tools-0.11-py2.py3-none-any.whl (4.4 kB)\n",
      "Installing collected packages: eep153-tools\n",
      "Successfully installed eep153-tools-0.11\n",
      "Collecting python_gnupg\n",
      "  Downloading python_gnupg-0.4.8-py2.py3-none-any.whl (18 kB)\n",
      "Installing collected packages: python-gnupg\n",
      "Successfully installed python-gnupg-0.4.8\n",
      "Input secret passphrase for ../students.json.gpg to create google drive credentials: noodle octopus\n"
     ]
    }
   ],
   "source": [
    "!pip install eep153_tools\n",
    "!pip install python_gnupg\n",
    "\n",
    "from eep153_tools.sheets import decrypt_credentials\n",
    "decrypt_credentials('../students.json.gpg')"
   ]
  },
  {
   "cell_type": "markdown",
   "metadata": {},
   "source": [
    "To check that this worked, the following gives a list of\n",
    "emails for &ldquo;service<sub>accounts</sub>&rdquo; that now have credentials&#x2013;you can\n",
    "then &ldquo;share&rdquo; google sheets with these.\n",
    "\n"
   ]
  },
  {
   "cell_type": "code",
   "execution_count": 2,
   "metadata": {},
   "outputs": [
    {
     "name": "stdout",
     "output_type": "stream",
     "text": [
      "students@eep153.iam.gserviceaccount.com\r\n"
     ]
    }
   ],
   "source": [
    "!ls ~/.eep153.service_accounts/"
   ]
  },
  {
   "cell_type": "markdown",
   "metadata": {},
   "source": [
    "With those credentials established\n",
    "\n"
   ]
  },
  {
   "cell_type": "code",
   "execution_count": 3,
   "metadata": {},
   "outputs": [
    {
     "name": "stdout",
     "output_type": "stream",
     "text": [
      "Key available for students@eep153.iam.gserviceaccount.com.\n"
     ]
    },
    {
     "data": {
      "text/plain": [
       "dict_keys(['Explanation', 'Ag TFP', 'Output', 'Inputs', 'Factor Shares', 'Ag Land', 'Land Weights', 'Cropland', 'Irrig', 'Pasture', 'Labor', 'Livestock', 'Machinery', 'Fertilizer', 'Feed'])"
      ]
     },
     "execution_count": 3,
     "metadata": {},
     "output_type": "execute_result"
    }
   ],
   "source": [
    "from eep153_tools.sheets import read_sheets\n",
    "\n",
    "#### Read a bunch of google worksheets into a dictionary of dataframes\n",
    "data = read_sheets('https://docs.google.com/spreadsheets/d/1DLn9owcS7ggojJGWlI9vKSz0hqozn6cbcqNGWgzMZ8k',force_numeric=False)\n",
    "\n",
    "data.keys()"
   ]
  },
  {
   "cell_type": "markdown",
   "metadata": {},
   "source": [
    "This gives a dictionary of dataframes, but these dataframes need to be\n",
    "tidied up some.  For example, look at Output:\n",
    "\n"
   ]
  },
  {
   "cell_type": "code",
   "execution_count": 4,
   "metadata": {},
   "outputs": [
    {
     "data": {
      "text/html": [
       "<div>\n",
       "<style scoped>\n",
       "    .dataframe tbody tr th:only-of-type {\n",
       "        vertical-align: middle;\n",
       "    }\n",
       "\n",
       "    .dataframe tbody tr th {\n",
       "        vertical-align: top;\n",
       "    }\n",
       "\n",
       "    .dataframe thead th {\n",
       "        text-align: right;\n",
       "    }\n",
       "</style>\n",
       "<table border=\"1\" class=\"dataframe\">\n",
       "  <thead>\n",
       "    <tr style=\"text-align: right;\">\n",
       "      <th></th>\n",
       "      <th>Gross Agricultural Production</th>\n",
       "      <th></th>\n",
       "      <th></th>\n",
       "      <th></th>\n",
       "      <th></th>\n",
       "      <th></th>\n",
       "      <th></th>\n",
       "      <th></th>\n",
       "      <th></th>\n",
       "      <th></th>\n",
       "      <th>...</th>\n",
       "      <th></th>\n",
       "      <th></th>\n",
       "      <th></th>\n",
       "      <th></th>\n",
       "      <th></th>\n",
       "      <th></th>\n",
       "      <th></th>\n",
       "      <th></th>\n",
       "      <th></th>\n",
       "      <th></th>\n",
       "    </tr>\n",
       "  </thead>\n",
       "  <tbody>\n",
       "    <tr>\n",
       "      <th>0</th>\n",
       "      <td>($1000, constant 2004-2006 prices)</td>\n",
       "      <td></td>\n",
       "      <td></td>\n",
       "      <td></td>\n",
       "      <td></td>\n",
       "      <td></td>\n",
       "      <td></td>\n",
       "      <td></td>\n",
       "      <td></td>\n",
       "      <td></td>\n",
       "      <td>...</td>\n",
       "      <td></td>\n",
       "      <td></td>\n",
       "      <td></td>\n",
       "      <td></td>\n",
       "      <td></td>\n",
       "      <td></td>\n",
       "      <td></td>\n",
       "      <td></td>\n",
       "      <td></td>\n",
       "      <td></td>\n",
       "    </tr>\n",
       "    <tr>\n",
       "      <th>1</th>\n",
       "      <td>Order</td>\n",
       "      <td>FAO N</td>\n",
       "      <td>WDI Code</td>\n",
       "      <td>Country</td>\n",
       "      <td>Region</td>\n",
       "      <td>Sub-Region</td>\n",
       "      <td>Inc I</td>\n",
       "      <td>Inc II</td>\n",
       "      <td>Note</td>\n",
       "      <td></td>\n",
       "      <td>...</td>\n",
       "      <td>2011</td>\n",
       "      <td>2012</td>\n",
       "      <td>2013</td>\n",
       "      <td>2014</td>\n",
       "      <td>2015</td>\n",
       "      <td>2016</td>\n",
       "      <td>2017</td>\n",
       "      <td>2018</td>\n",
       "      <td>2019</td>\n",
       "      <td>2020</td>\n",
       "    </tr>\n",
       "    <tr>\n",
       "      <th>2</th>\n",
       "      <td>1</td>\n",
       "      <td>202</td>\n",
       "      <td>ZAF</td>\n",
       "      <td>South Africa</td>\n",
       "      <td>AFRICA, Developed</td>\n",
       "      <td>South Africa</td>\n",
       "      <td>MI-U</td>\n",
       "      <td>MI-U-xC</td>\n",
       "      <td></td>\n",
       "      <td></td>\n",
       "      <td>...</td>\n",
       "      <td>-0.010</td>\n",
       "      <td>0.033</td>\n",
       "      <td>0.022</td>\n",
       "      <td>0.059</td>\n",
       "      <td>-0.023</td>\n",
       "      <td>-0.042</td>\n",
       "      <td></td>\n",
       "      <td></td>\n",
       "      <td></td>\n",
       "      <td></td>\n",
       "    </tr>\n",
       "    <tr>\n",
       "      <th>3</th>\n",
       "      <td>2</td>\n",
       "      <td>32</td>\n",
       "      <td>CMR</td>\n",
       "      <td>Cameroon</td>\n",
       "      <td>AFRICA, SUB-SAHARA</td>\n",
       "      <td>SSA, Central</td>\n",
       "      <td>MI-L</td>\n",
       "      <td>MI-L</td>\n",
       "      <td></td>\n",
       "      <td></td>\n",
       "      <td>...</td>\n",
       "      <td>0.028</td>\n",
       "      <td>0.055</td>\n",
       "      <td>0.027</td>\n",
       "      <td>0.008</td>\n",
       "      <td>0.046</td>\n",
       "      <td>0.061</td>\n",
       "      <td></td>\n",
       "      <td></td>\n",
       "      <td></td>\n",
       "      <td></td>\n",
       "    </tr>\n",
       "    <tr>\n",
       "      <th>4</th>\n",
       "      <td>3</td>\n",
       "      <td>37</td>\n",
       "      <td>CAF</td>\n",
       "      <td>Central African Republic</td>\n",
       "      <td>AFRICA, SUB-SAHARA</td>\n",
       "      <td>SSA, Central</td>\n",
       "      <td>LI</td>\n",
       "      <td>LI</td>\n",
       "      <td></td>\n",
       "      <td></td>\n",
       "      <td>...</td>\n",
       "      <td>0.050</td>\n",
       "      <td>0.016</td>\n",
       "      <td>0.011</td>\n",
       "      <td>-0.048</td>\n",
       "      <td>0.024</td>\n",
       "      <td>0.020</td>\n",
       "      <td></td>\n",
       "      <td></td>\n",
       "      <td></td>\n",
       "      <td></td>\n",
       "    </tr>\n",
       "  </tbody>\n",
       "</table>\n",
       "<p>5 rows × 192 columns</p>\n",
       "</div>"
      ],
      "text/plain": [
       "        Gross Agricultural Production                   \\\n",
       "0  ($1000, constant 2004-2006 prices)                    \n",
       "1                               Order  FAO N  WDI Code   \n",
       "2                                   1    202       ZAF   \n",
       "3                                   2     32       CMR   \n",
       "4                                   3     37       CAF   \n",
       "\n",
       "                                                                               \\\n",
       "0                                                                               \n",
       "1                   Country              Region    Sub-Region  Inc I   Inc II   \n",
       "2              South Africa   AFRICA, Developed  South Africa   MI-U  MI-U-xC   \n",
       "3                  Cameroon  AFRICA, SUB-SAHARA  SSA, Central   MI-L     MI-L   \n",
       "4  Central African Republic  AFRICA, SUB-SAHARA  SSA, Central     LI       LI   \n",
       "\n",
       "           ...                                                            \\\n",
       "0          ...                                                             \n",
       "1  Note    ...    2011   2012   2013    2014    2015    2016  2017  2018   \n",
       "2          ...  -0.010  0.033  0.022   0.059  -0.023  -0.042               \n",
       "3          ...   0.028  0.055  0.027   0.008   0.046   0.061               \n",
       "4          ...   0.050  0.016  0.011  -0.048   0.024   0.020               \n",
       "\n",
       "               \n",
       "0              \n",
       "1  2019  2020  \n",
       "2              \n",
       "3              \n",
       "4              \n",
       "\n",
       "[5 rows x 192 columns]"
      ]
     },
     "execution_count": 4,
     "metadata": {},
     "output_type": "execute_result"
    }
   ],
   "source": [
    "data['Output'].head()"
   ]
  },
  {
   "cell_type": "markdown",
   "metadata": {},
   "source": [
    "We really just want the columns that begin with years.  Also, there\n",
    "are annoyances like commas in numbers that we need to deal with.  \n",
    "Let&rsquo;s write a function to clean things up.\n",
    "\n"
   ]
  },
  {
   "cell_type": "code",
   "execution_count": 1,
   "metadata": {},
   "outputs": [],
   "source": [
    "import pandas as pd\n",
    "\n",
    "def get_international_ag_productivity_data(series):\n",
    "\n",
    "    columns=series.iloc[1,:]  # Need to fix columns\n",
    "    series = series.iloc[2:,:]\n",
    "    series.columns = columns\n",
    "\n",
    "    # Set index to country code\n",
    "    series = series.set_index('WDI Code')\n",
    "\n",
    "    series = series[['%d' % t for t in range(1961,2020)]]\n",
    "\n",
    "    series = series.replace({',':''},regex=True) # Get rid of commas in number strings\n",
    "    series = series.replace({'':'NaN'}) # Change empty cells to NaN strings\n",
    "    series = series.apply(lambda x: pd.to_numeric(x,errors='ignore'))\n",
    "    series = series.astype(float) # Convert to floats\n",
    "\n",
    "    series = series.stack()\n",
    "    \n",
    "    series = series.loc[~series.index.duplicated(keep='first')] \n",
    "\n",
    "    series.index.names = ['WDI Code','Year']\n",
    "\n",
    "    return series\n",
    "   \n",
    "\n",
    "Data = ['Output','Ag TFP','Ag Land','Irrig','Pasture','Labor','Livestock',\n",
    "        'Machinery','Fertilizer','Feed']\n",
    "\n",
    "D = {}\n",
    "for key in Data:\n",
    "    D[key] = get_international_ag_productivity_data(data[key])\n",
    "\n",
    "df = pd.DataFrame(D)\n",
    "df"
   ]
  },
  {
   "cell_type": "markdown",
   "metadata": {},
   "source": [
    "### Visualizing data on ag production\n",
    "\n"
   ]
  },
  {
   "cell_type": "markdown",
   "metadata": {},
   "source": [
    "Plot growth in output for all countries for 1961 on:\n",
    "\n"
   ]
  },
  {
   "cell_type": "code",
   "execution_count": 1,
   "metadata": {},
   "outputs": [],
   "source": [
    "import cufflinks as cf\n",
    "cf.go_offline()\n",
    "\n",
    "df['Output'].unstack().T.iplot(title=\"Value of Agricultural Output\",\n",
    "                               yTitle='Thousands of 2005-06 Dollars',\n",
    "                               xTitle='Year')"
   ]
  },
  {
   "cell_type": "markdown",
   "metadata": {},
   "source": [
    "Compare world growth in outputs, inputs, and TFP:\n",
    "\n"
   ]
  },
  {
   "cell_type": "code",
   "execution_count": 1,
   "metadata": {},
   "outputs": [],
   "source": [
    "import numpy as np\n",
    "\n",
    "world = df.xs('WLD',level='WDI Code').replace(0,np.nan).dropna(how='any')\n",
    "\n",
    "# Put in log differences\n",
    "dworld = np.log(world).diff()\n",
    "dworld['Inputs'] = dworld['Output'] - dworld['Ag TFP']\n",
    "\n",
    "dworld.mean()"
   ]
  },
  {
   "cell_type": "markdown",
   "metadata": {},
   "source": [
    "And a graph of growth rates:\n",
    "\n"
   ]
  },
  {
   "cell_type": "code",
   "execution_count": 1,
   "metadata": {},
   "outputs": [],
   "source": [
    "dworld[['Output','Inputs','Ag TFP']].iplot(title=\"Growth rates of output, inputs, & TFP\",\n",
    "                                           xTitle=\"Year\")"
   ]
  },
  {
   "cell_type": "markdown",
   "metadata": {},
   "source": [
    "That&rsquo;s the overall picture for the world.  Now &ldquo;drill down&rdquo; and\n",
    "consider just production in the US:\n",
    "\n"
   ]
  },
  {
   "cell_type": "code",
   "execution_count": 1,
   "metadata": {},
   "outputs": [],
   "source": [
    "select = df.xs('USA',level='WDI Code').dropna(how='any')\n",
    "\n",
    "dselect = np.log(select).diff()\n",
    "dselect['Inputs'] = dselect['Output'] - dselect['Ag TFP']\n",
    "\n",
    "dselect.mean()"
   ]
  },
  {
   "cell_type": "markdown",
   "metadata": {},
   "source": [
    "And here a graph of growth in indices of inputs & outputs since 1961:\n",
    "\n"
   ]
  },
  {
   "cell_type": "code",
   "execution_count": 1,
   "metadata": {},
   "outputs": [],
   "source": [
    "select = df.xs('USA',level='WDI Code').dropna(how='any')\n",
    "\n",
    "select = select/select.loc['1961',:]\n",
    "select.iplot()"
   ]
  },
  {
   "cell_type": "markdown",
   "metadata": {},
   "source": [
    "Compare with India, which in recent years has had a level of\n",
    "agricultural output close to that of the US:\n",
    "\n"
   ]
  },
  {
   "cell_type": "code",
   "execution_count": 1,
   "metadata": {},
   "outputs": [],
   "source": [
    "select = df.xs('IND',level='WDI Code').dropna(how='any')\n",
    "\n",
    "select = select/select.loc['1961',:]\n",
    "select.iplot()"
   ]
  },
  {
   "cell_type": "markdown",
   "metadata": {},
   "source": [
    "And now look at ratios of inputs & outputs in India to the same in the\n",
    "US:\n",
    "\n"
   ]
  },
  {
   "cell_type": "code",
   "execution_count": 1,
   "metadata": {},
   "outputs": [],
   "source": [
    "USA = df.xs('USA',level='WDI Code').dropna(how='any')\n",
    "\n",
    "IND = df.xs('IND',level='WDI Code').dropna(how='any')\n",
    "\n",
    "select = np.log(IND/USA\n",
    "select.iplot(title='Log Indian inputs & output Relative to US')"
   ]
  }
 ],
 "metadata": {
  "kernelspec": {
   "display_name": "Python 3 (ipykernel)",
   "language": "python",
   "name": "python3"
  },
  "language_info": {
   "codemirror_mode": {
    "name": "ipython",
    "version": 3
   },
   "file_extension": ".py",
   "mimetype": "text/x-python",
   "name": "python",
   "nbconvert_exporter": "python",
   "pygments_lexer": "ipython3",
   "version": "3.9.10"
  },
  "org": null
 },
 "nbformat": 4,
 "nbformat_minor": 1
}
